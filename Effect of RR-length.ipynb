{
 "cells": [
  {
   "cell_type": "code",
   "execution_count": 1,
   "metadata": {},
   "outputs": [],
   "source": [
    "from mpl_toolkits.mplot3d import Axes3D\n",
    "from sklearn.preprocessing import StandardScaler\n",
    "import matplotlib.pyplot as plt # plotting\n",
    "import numpy as np # linear algebra\n",
    "import os # accessing directory structure\n",
    "import pandas as pd # data processing, CSV file I/O (e.g. pd.read_csv)\n",
    "from PARAM_HVR import mean_rr,mean_hr,sdnn, sdsd, rmssd, rmssd_sdsd, time_domain_analysis, poincare, stress_index, res_index, pns_index\n",
    "from PARAM_HVR import sns_index, iterative_sd, iterative_mean, frequency_domian, countPairsWithDiffK,kurtose,skewness,relativeRR\n",
    "from entropy import *"
   ]
  },
  {
   "cell_type": "code",
   "execution_count": 2,
   "metadata": {},
   "outputs": [],
   "source": [
    "P1_data = pd.read_csv('0. interim/swell/rri/p1.csv')"
   ]
  },
  {
   "cell_type": "code",
   "execution_count": 3,
   "metadata": {},
   "outputs": [],
   "source": [
    "time_sec = P1_data['Time']\n",
    "time_min =P1_data['Time']/60\n",
    "RR = P1_data['rri']"
   ]
  },
  {
   "cell_type": "code",
   "execution_count": 4,
   "metadata": {},
   "outputs": [],
   "source": [
    "#Die Methode \"find_Time_index\" liefert der Index einer gegebenen Zeit zurück\n",
    "#@param zeit soll genau sein d.h in der list \"time_min\" vorhandeln sein ZB. 1.0002604166666667 für 1min, 5.0002604999999996 für 5min usw \n",
    "#um die genau zeit abzulesen soll die fongende kommenzierte code ausführt werden \n",
    "#for t in time_min:\n",
    "        #print(t)\n",
    "    \n",
    "def find_Time_index(zeit):\n",
    "    index=0\n",
    "    for times in time_min:\n",
    "        index=index+1\n",
    "        if(zeit==times):\n",
    "            break\n",
    "            \n",
    "    return index-1"
   ]
  },
  {
   "cell_type": "code",
   "execution_count": 5,
   "metadata": {},
   "outputs": [],
   "source": [
    "#Die Methode \"random_rr\" gibt eine zufällige liste von X elements entlang der rri-liste zurück\n",
    "# X ist ein Zeitindex (Interger). ZB. für ein Zeitindex X=2 wird eine liste von rri mit 2 elementen generiert\n",
    "\n",
    "def random_rr(X):\n",
    "    liste=[]\n",
    "    rr=RR.sample(X)\n",
    "    for line in rr:\n",
    "        liste+=[line]\n",
    "    return liste"
   ]
  },
  {
   "cell_type": "code",
   "execution_count": 6,
   "metadata": {},
   "outputs": [],
   "source": [
    "#berechnet die Summe von elementen einer liste \n",
    "def somme(liste):\n",
    "    sume=0\n",
    "    for elt in liste:\n",
    "        sume+=elt\n",
    "    return sume"
   ]
  },
  {
   "cell_type": "code",
   "execution_count": 7,
   "metadata": {},
   "outputs": [],
   "source": [
    "# generiert eine liste von rri-elementen für eine gegebene zeit\n",
    "def rand_rr_interval(zeit):\n",
    "    idx=find_Time_index(zeit)\n",
    "    random_intervals_list = random_rr(idx)\n",
    "    return  random_intervals_list"
   ]
  },
  {
   "cell_type": "code",
   "execution_count": 8,
   "metadata": {},
   "outputs": [
    {
     "data": {
      "text/plain": [
       "[844.93165,\n",
       " 873.4317,\n",
       " 1020.7126,\n",
       " 812.64192,\n",
       " 939.7778,\n",
       " 1019.4852,\n",
       " 965.97325,\n",
       " 989.90709,\n",
       " 772.94902,\n",
       " 840.83819,\n",
       " 963.8825300000001,\n",
       " 872.4341699999999,\n",
       " 915.7234599999999,\n",
       " 877.28069,\n",
       " 987.3853300000001,\n",
       " 935.41359,\n",
       " 1007.3745,\n",
       " 887.8945699999999,\n",
       " 861.9598599999999,\n",
       " 958.80399,\n",
       " 878.79344,\n",
       " 817.98451,\n",
       " 991.8255199999999,\n",
       " 808.00732,\n",
       " 932.97701,\n",
       " 927.7610800000001,\n",
       " 1071.9845,\n",
       " 936.4972300000001,\n",
       " 1538.3811,\n",
       " 883.3028699999999,\n",
       " 963.40431,\n",
       " 940.5089999999999,\n",
       " 928.66665,\n",
       " 1095.6454,\n",
       " 889.95735,\n",
       " 989.38686,\n",
       " 1090.0629,\n",
       " 937.8424,\n",
       " 931.8016,\n",
       " 749.2175599999999,\n",
       " 816.54941,\n",
       " 1070.8036,\n",
       " 899.5450599999999,\n",
       " 1026.7773,\n",
       " 850.10294,\n",
       " 1038.3319,\n",
       " 1011.2788,\n",
       " 995.0789800000001,\n",
       " 921.1751,\n",
       " 1023.9375,\n",
       " 903.3539900000001,\n",
       " 971.04168,\n",
       " 1024.8272,\n",
       " 874.00939,\n",
       " 901.7134,\n",
       " 794.52633,\n",
       " 801.88697,\n",
       " 872.60125,\n",
       " 1786.7927,\n",
       " 1011.3706,\n",
       " 792.02707,\n",
       " 929.39398,\n",
       " 914.98092,\n",
       " 941.80798,\n",
       " 1027.0221,\n",
       " 1113.1476,\n",
       " 1066.2082,\n",
       " 929.5283400000001,\n",
       " 913.66938,\n",
       " 978.3363,\n",
       " 972.17574,\n",
       " 872.3400300000001,\n",
       " 1052.4896,\n",
       " 888.4169800000001,\n",
       " 972.17302,\n",
       " 1010.9916,\n",
       " 882.66035,\n",
       " 968.85821,\n",
       " 1144.3252,\n",
       " 871.78892,\n",
       " 993.3300300000001,\n",
       " 960.8872,\n",
       " 1047.369,\n",
       " 1064.0397,\n",
       " 1058.8977,\n",
       " 864.04477,\n",
       " 994.23227,\n",
       " 793.45858,\n",
       " 893.3786,\n",
       " 896.9086599999999,\n",
       " 765.59646,\n",
       " 926.44585,\n",
       " 1011.5112,\n",
       " 943.4803400000001,\n",
       " 876.5657699999999,\n",
       " 869.5519199999999,\n",
       " 1020.7409,\n",
       " 985.56832,\n",
       " 934.9213199999999,\n",
       " 1042.9006,\n",
       " 1003.0853,\n",
       " 1019.6908,\n",
       " 1019.0587,\n",
       " 938.71591,\n",
       " 967.61417,\n",
       " 1156.4972,\n",
       " 1128.1467,\n",
       " 948.65344,\n",
       " 948.04933,\n",
       " 980.73289,\n",
       " 1035.5114,\n",
       " 826.88365,\n",
       " 951.1441,\n",
       " 879.25399,\n",
       " 1028.1327,\n",
       " 914.9697800000001,\n",
       " 796.36951,\n",
       " 1050.035,\n",
       " 934.8712800000001,\n",
       " 1051.4135,\n",
       " 940.28766,\n",
       " 1100.5205,\n",
       " 920.6801,\n",
       " 912.9083800000001,\n",
       " 965.43922,\n",
       " 986.24586,\n",
       " 861.81348,\n",
       " 827.83807,\n",
       " 917.2147,\n",
       " 893.9557599999999,\n",
       " 873.7751599999999,\n",
       " 976.8185699999999,\n",
       " 951.34045,\n",
       " 879.9349199999999,\n",
       " 1127.1528,\n",
       " 917.99824,\n",
       " 907.3844300000001,\n",
       " 939.0550800000001,\n",
       " 777.11117,\n",
       " 913.00581,\n",
       " 888.5274400000001,\n",
       " 1021.1721,\n",
       " 964.5603699999999,\n",
       " 872.64683,\n",
       " 975.04895,\n",
       " 1006.4372,\n",
       " 780.59876,\n",
       " 1045.56,\n",
       " 1647.0482,\n",
       " 1070.1907,\n",
       " 962.2832400000001,\n",
       " 943.96608,\n",
       " 925.4256300000001,\n",
       " 935.3285300000001,\n",
       " 933.5314400000001,\n",
       " 864.27947,\n",
       " 983.9676800000001,\n",
       " 888.36994,\n",
       " 898.2542800000001,\n",
       " 972.72865,\n",
       " 976.3969,\n",
       " 820.61862,\n",
       " 1054.7872,\n",
       " 917.15746,\n",
       " 959.53169,\n",
       " 857.38633,\n",
       " 1028.6678,\n",
       " 988.9725800000001,\n",
       " 866.8426800000001,\n",
       " 932.5518099999999,\n",
       " 884.0047599999999,\n",
       " 994.7963599999999,\n",
       " 888.0649699999999,\n",
       " 949.81792,\n",
       " 1043.1644,\n",
       " 952.5966199999999,\n",
       " 941.09676,\n",
       " 979.2016,\n",
       " 831.99654,\n",
       " 796.79976,\n",
       " 1042.7533,\n",
       " 824.73404,\n",
       " 974.4648199999999,\n",
       " 896.8522800000001,\n",
       " 922.8318,\n",
       " 963.8081199999999,\n",
       " 1072.8526,\n",
       " 993.31377,\n",
       " 1026.598,\n",
       " 973.2560800000001,\n",
       " 913.4720800000001,\n",
       " 781.76387,\n",
       " 758.49678,\n",
       " 943.2926199999999,\n",
       " 849.14762,\n",
       " 838.55846,\n",
       " 883.7824400000001,\n",
       " 856.98864,\n",
       " 822.31129,\n",
       " 1125.8744,\n",
       " 879.80315,\n",
       " 792.8212900000001,\n",
       " 846.3399199999999,\n",
       " 1162.8278,\n",
       " 1059.5653,\n",
       " 986.77707,\n",
       " 908.4458699999999,\n",
       " 822.54563,\n",
       " 922.39079,\n",
       " 1024.3196,\n",
       " 858.95255,\n",
       " 978.81939,\n",
       " 932.4544300000001,\n",
       " 1403.1812,\n",
       " 795.66836,\n",
       " 963.51619,\n",
       " 666.77215,\n",
       " 1072.1846,\n",
       " 1321.9560000000001,\n",
       " 929.42673,\n",
       " 995.3612099999999,\n",
       " 903.7370300000001,\n",
       " 1052.6892,\n",
       " 976.45054,\n",
       " 924.81725,\n",
       " 947.3905900000001,\n",
       " 977.18934,\n",
       " 930.8199699999999,\n",
       " 808.60423,\n",
       " 1149.0216,\n",
       " 732.53496,\n",
       " 990.90545,\n",
       " 866.57924,\n",
       " 942.0573,\n",
       " 987.31239]"
      ]
     },
     "execution_count": 8,
     "metadata": {},
     "output_type": "execute_result"
    }
   ],
   "source": [
    "rand_rr=rand_rr_interval(1.0002604166666667)\n",
    "rand_rr"
   ]
  },
  {
   "cell_type": "code",
   "execution_count": 9,
   "metadata": {},
   "outputs": [],
   "source": [
    "#Methode to calculate the sample entropy(Package entropy)\n",
    "#für eine eingegebene zeitintervall @param \"minute\" wird zufällig entlang der gesamgten RR-länge diese zeitintervall genommen und \n",
    "#es wird der sample entropie davon berechnet. Der zufallexperiment wird 50 mal wiederholt und  es wird jedesmal die entropieberechnung \n",
    "#in einer liste hinzugefügt und die liste wird zurückgegeben\n",
    "\n",
    "def rand_entrop(minute):\n",
    "    rand_entropy_list=[]\n",
    "    print('Sample entropy 1min RR intervals')\n",
    "    for n in range(1,51,1):\n",
    "        rand_rr=rand_rr_interval(minute)\n",
    "        samp_entrop=sample_entropy(rand_rr, order=2, metric='chebyshev')            # Sample entropy\n",
    "        rand_entropy_list.append(samp_entrop)\n",
    "    return rand_entropy_list"
   ]
  },
  {
   "cell_type": "code",
   "execution_count": 14,
   "metadata": {},
   "outputs": [
    {
     "name": "stdout",
     "output_type": "stream",
     "text": [
      "Sample entropy 1min RR intervals\n"
     ]
    },
    {
     "data": {
      "text/plain": [
       "[1.650749582961855,\n",
       " 2.293165871077554,\n",
       " 2.2668178691354144,\n",
       " 1.9584889312621734,\n",
       " 2.08931329015899,\n",
       " 1.8823048991007407,\n",
       " 2.0170060707390434,\n",
       " 1.7159089223759538,\n",
       " 2.2265521924307397,\n",
       " 2.0481889981757315,\n",
       " 2.029993266265855,\n",
       " 2.0427932745240973,\n",
       " 1.9493465785538944,\n",
       " 2.0489823341951277,\n",
       " 1.9782231380458568,\n",
       " 1.9382823470064272,\n",
       " 1.868392695248971,\n",
       " 1.7623455840217617,\n",
       " 2.0981019643972387,\n",
       " 1.8768219077719042,\n",
       " 1.8402711206537288,\n",
       " 2.088590736333424,\n",
       " 1.9685789488680263,\n",
       " 1.960455860057692,\n",
       " 1.8881513149031208,\n",
       " 1.942192672655181,\n",
       " 2.1552015875613715,\n",
       " 1.8870696490323797,\n",
       " 1.8976198599275322,\n",
       " 1.884977598060156,\n",
       " 1.820089975854281,\n",
       " 1.968859082040858,\n",
       " 2.039701213030322,\n",
       " 1.7808982297964504,\n",
       " 1.8181927262962105,\n",
       " 2.1127352697792996,\n",
       " 1.957886340102029,\n",
       " 1.9105430052180221,\n",
       " 1.9459101490553135,\n",
       " 1.6739764335716716,\n",
       " 1.7654106395313034,\n",
       " 2.010973742402375,\n",
       " 1.9701048776423702,\n",
       " 1.7527833744712968,\n",
       " 1.9042374526547454,\n",
       " 2.058882814658799,\n",
       " 2.1824407811519824,\n",
       " 1.838504482051432,\n",
       " 1.8718021769015913,\n",
       " 1.9075912847531766]"
      ]
     },
     "execution_count": 14,
     "metadata": {},
     "output_type": "execute_result"
    }
   ],
   "source": [
    "RR_1min_inter=rand_entrop(1.0002604166666667)\n",
    "RR_1min_inter"
   ]
  },
  {
   "cell_type": "code",
   "execution_count": 15,
   "metadata": {},
   "outputs": [
    {
     "data": {
      "text/plain": [
       "1.9509282623293094"
      ]
     },
     "execution_count": 15,
     "metadata": {},
     "output_type": "execute_result"
    }
   ],
   "source": [
    "mean_rr(RR_1min_inter)\n"
   ]
  },
  {
   "cell_type": "code",
   "execution_count": 16,
   "metadata": {},
   "outputs": [
    {
     "name": "stdout",
     "output_type": "stream",
     "text": [
      "histogram für 1min\n"
     ]
    },
    {
     "data": {
      "text/plain": [
       "(array([ 3.,  4., 11., 14.,  8.,  5.,  2.,  3.]),\n",
       " array([1.65074958, 1.73105162, 1.81135365, 1.89165569, 1.97195773,\n",
       "        2.05225976, 2.1325618 , 2.21286384, 2.29316587]),\n",
       " <a list of 8 Patch objects>)"
      ]
     },
     "execution_count": 16,
     "metadata": {},
     "output_type": "execute_result"
    },
    {
     "data": {
      "image/png": "[encoded data removed]",
      "text/plain": [
       "<Figure size 432x288 with 1 Axes>"
      ]
     },
     "metadata": {
      "needs_background": "light"
     },
     "output_type": "display_data"
    }
   ],
   "source": [
    "print('histogram für 1min')\n",
    "plt.hist(x=RR_1min_inter, bins='auto', color='#0504aa')     #,alpha=0.7, rwidth=0.85"
   ]
  },
  {
   "cell_type": "code",
   "execution_count": null,
   "metadata": {},
   "outputs": [],
   "source": []
  },
  {
   "cell_type": "code",
   "execution_count": null,
   "metadata": {},
   "outputs": [],
   "source": []
  },
  {
   "cell_type": "code",
   "execution_count": null,
   "metadata": {},
   "outputs": [],
   "source": []
  }
 ],
 "metadata": {
  "kernelspec": {
   "display_name": "Python [conda env:ReseauxNeuronal] *",
   "language": "python",
   "name": "conda-env-ReseauxNeuronal-py"
  },
  "language_info": {
   "codemirror_mode": {
    "name": "ipython",
    "version": 3
   },
   "file_extension": ".py",
   "mimetype": "text/x-python",
   "name": "python",
   "nbconvert_exporter": "python",
   "pygments_lexer": "ipython3",
   "version": "3.7.7"
  }
 },
 "nbformat": 4,
 "nbformat_minor": 4
}
